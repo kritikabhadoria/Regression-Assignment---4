{
 "cells": [
  {
   "cell_type": "markdown",
   "id": "c4ff31c7-f5c2-4dce-bf08-8ea8d8974395",
   "metadata": {},
   "source": [
    "**Q1. What is Lasso Regression, and how does it differ from other regression techniques?**\n",
    "Lasso Regression (Least Absolute Shrinkage and Selection Operator) is a type of linear regression that includes a regularization term in the cost function to encourage sparsity. The key difference from ordinary least squares (OLS) regression is the addition of an L1 penalty term, which is proportional to the absolute values of the coefficients. This L1 regularization can lead to some coefficients being exactly zero, effectively performing feature selection. Lasso Regression differs from Ridge Regression, which uses L2 regularization (squared values of the coefficients) and typically does not yield coefficients that are exactly zero.\n",
    "\n",
    "**Q2. What is the main advantage of using Lasso Regression in feature selection?**\n",
    "The main advantage of Lasso Regression for feature selection is its ability to drive some coefficients to exactly zero. This characteristic allows Lasso to automatically select a subset of the most important features, effectively performing feature selection while fitting the regression model. This property can lead to simpler models, improved interpretability, and reduced risk of overfitting, especially when dealing with high-dimensional data or multicollinearity among predictors.\n",
    "\n",
    "**Q3. How do you interpret the coefficients of a Lasso Regression model?**\n",
    "In Lasso Regression, coefficients represent the expected change in the dependent variable for a one-unit change in the corresponding independent variable, holding other variables constant. However, because Lasso includes L1 regularization, which can set some coefficients to zero, the interpretation must consider the potential effects of feature selection. A coefficient of zero indicates that the corresponding feature has been excluded from the model, suggesting it might not contribute significantly to the predictive power. Non-zero coefficients can be interpreted similarly to other linear regression models, but with the caveat that the regularization tends to shrink coefficients, leading to potentially more conservative interpretations.\n",
    "\n",
    "**Q4. What are the tuning parameters that can be adjusted in Lasso Regression, and how do they affect the model's performance?**\n",
    "The primary tuning parameter in Lasso Regression is the regularization parameter, lambda (λ). Lambda controls the strength of the L1 regularization:\n",
    "\n",
    "- **Higher Lambda Values**: Increase the regularization, leading to more coefficients being driven to zero. This results in simpler models with fewer features, reducing the risk of overfitting but potentially introducing more bias.\n",
    "- **Lower Lambda Values**: Decrease the regularization, allowing more features to have non-zero coefficients. This results in more complex models with greater risk of overfitting but potentially lower bias.\n",
    "\n",
    "Selecting the optimal lambda involves balancing these trade-offs between model complexity and performance.\n",
    "\n",
    "**Q5. Can Lasso Regression be used for non-linear regression problems? If yes, how?**\n",
    "Lasso Regression is inherently a linear model, but it can be adapted for non-linear regression problems through feature engineering and transformations:\n",
    "\n",
    "- **Polynomial Features**: By adding polynomial features (e.g., squaring, cubing, or interactions among features), Lasso can capture non-linear relationships.\n",
    "- **Basis Functions**: Techniques like splines, Fourier transforms, or radial basis functions can introduce non-linearity.\n",
    "- **Data Transformation**: Applying transformations like logarithmic or exponential to the data can help capture non-linear patterns.\n",
    "\n",
    "While Lasso can handle non-linearities this way, it's crucial to remember that the underlying model remains linear concerning the transformed features. For inherently non-linear models, other techniques like decision trees or neural networks might be more appropriate.\n",
    "\n",
    "**Q6. What is the difference between Ridge Regression and Lasso Regression?**\n",
    "The key difference between Ridge Regression and Lasso Regression lies in the type of regularization used:\n",
    "\n",
    "- **Ridge Regression**: Uses L2 regularization, adding a penalty proportional to the sum of the squares of the coefficients. It tends to shrink coefficients but does not typically set them to zero.\n",
    "- **Lasso Regression**: Uses L1 regularization, adding a penalty proportional to the sum of the absolute values of the coefficients. It can drive coefficients to zero, effectively performing feature selection.\n",
    "\n",
    "These differences lead to varied use cases: Ridge is more suitable for cases with multicollinearity where all features might contribute to the model, while Lasso is ideal for feature selection and producing simpler models.\n",
    "\n",
    "**Q7. Can Lasso Regression handle multicollinearity in the input features? If yes, how?**\n",
    "Yes, Lasso Regression can handle multicollinearity, but its approach differs from Ridge Regression. Because Lasso drives some coefficients to zero, it can effectively select among highly correlated features, keeping one or a subset of them while eliminating others. This approach can reduce multicollinearity's adverse effects by removing redundant or less relevant features. However, in scenarios with extreme multicollinearity, Lasso might select one feature arbitrarily over another, which could impact interpretability and model robustness.\n",
    "\n",
    "**Q8. How do you choose the optimal value of the regularization parameter (lambda) in Lasso Regression?**\n",
    "Choosing the optimal lambda in Lasso Regression involves finding a balance between underfitting and overfitting. Common methods for this include:\n",
    "\n",
    "- **Cross-Validation**: Dividing the data into training and validation sets and testing different lambda values to find the one with the best performance (e.g., lowest mean squared error).\n",
    "- **Grid Search**: Trying a range of lambda values and evaluating the model's performance to select the optimal lambda.\n",
    "- **Regularization Paths**: Plotting coefficients' magnitudes against lambda values to understand how coefficients change with increasing regularization. This can help identify a suitable lambda that maintains critical features while penalizing less significant ones.\n",
    "\n",
    "Cross-validation is the most robust method, allowing for an unbiased estimate of model performance and preventing overfitting."
   ]
  },
  {
   "cell_type": "code",
   "execution_count": null,
   "id": "3b344201-d14f-4d86-8ee0-4c31cd2d5914",
   "metadata": {},
   "outputs": [],
   "source": []
  }
 ],
 "metadata": {
  "kernelspec": {
   "display_name": "Python 3 (ipykernel)",
   "language": "python",
   "name": "python3"
  },
  "language_info": {
   "codemirror_mode": {
    "name": "ipython",
    "version": 3
   },
   "file_extension": ".py",
   "mimetype": "text/x-python",
   "name": "python",
   "nbconvert_exporter": "python",
   "pygments_lexer": "ipython3",
   "version": "3.10.8"
  }
 },
 "nbformat": 4,
 "nbformat_minor": 5
}
